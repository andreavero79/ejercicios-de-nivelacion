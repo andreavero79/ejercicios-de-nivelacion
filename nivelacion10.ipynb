{
  "nbformat": 4,
  "nbformat_minor": 0,
  "metadata": {
    "colab": {
      "provenance": [],
      "authorship_tag": "ABX9TyOyslY3SEky0Xe+T9SO1kdE",
      "include_colab_link": true
    },
    "kernelspec": {
      "name": "python3",
      "display_name": "Python 3"
    },
    "language_info": {
      "name": "python"
    }
  },
  "cells": [
    {
      "cell_type": "markdown",
      "metadata": {
        "id": "view-in-github",
        "colab_type": "text"
      },
      "source": [
        "<a href=\"https://colab.research.google.com/github/andreavero79/ejercicios-de-nivelacion/blob/main/nivelacion10.ipynb\" target=\"_parent\"><img src=\"https://colab.research.google.com/assets/colab-badge.svg\" alt=\"Open In Colab\"/></a>"
      ]
    },
    {
      "cell_type": "code",
      "execution_count": 9,
      "metadata": {
        "colab": {
          "base_uri": "https://localhost:8080/"
        },
        "id": "tj9bAdCKEl4h",
        "outputId": "f34c6b05-93b8-47b6-b2f7-f7c846b94276"
      },
      "outputs": [
        {
          "output_type": "stream",
          "name": "stdout",
          "text": [
            "¿cuantos numeros enteros contendra la lista?:6\n",
            "Introduce un numero entero: 5\n",
            "Introduce un numero entero: 3\n",
            "Introduce un numero entero: 5\n",
            "Introduce un numero entero: 7\n",
            "Introduce un numero entero: 9\n",
            "Introduce un numero entero: 0\n",
            "/nLista:(numeros) /nLa suma total de los elementos es: 29\n"
          ]
        }
      ],
      "source": [
        "numeros=[]\n",
        "longitud_lista=int(input(\"¿cuantos numeros enteros contendra la lista?:\" ))\n",
        "\n",
        "for _ in range (longitud_lista):\n",
        "  numeros.append(int(input(\"Introduce un numero entero: \")))\n",
        "print(f\"/nLista:(numeros) /nLa suma total de los elementos es: {sum(numeros)}\")"
      ]
    }
  ]
}