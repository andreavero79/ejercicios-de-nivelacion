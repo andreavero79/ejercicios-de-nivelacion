{
  "nbformat": 4,
  "nbformat_minor": 0,
  "metadata": {
    "colab": {
      "provenance": [],
      "authorship_tag": "ABX9TyNJnrAxVexIRjBnTCjM9Zkc",
      "include_colab_link": true
    },
    "kernelspec": {
      "name": "python3",
      "display_name": "Python 3"
    },
    "language_info": {
      "name": "python"
    }
  },
  "cells": [
    {
      "cell_type": "markdown",
      "metadata": {
        "id": "view-in-github",
        "colab_type": "text"
      },
      "source": [
        "<a href=\"https://colab.research.google.com/github/andreavero79/ejercicios-de-nivelacion/blob/main/nivelacion.ipynb\" target=\"_parent\"><img src=\"https://colab.research.google.com/assets/colab-badge.svg\" alt=\"Open In Colab\"/></a>"
      ]
    },
    {
      "cell_type": "code",
      "execution_count": null,
      "metadata": {
        "colab": {
          "base_uri": "https://localhost:8080/"
        },
        "id": "qbtzth7gkQGd",
        "outputId": "316d559a-7b87-41c5-84c5-528cf0d0d1d4"
      },
      "outputs": [
        {
          "output_type": "stream",
          "name": "stdout",
          "text": [
            "*************************************\n",
            "*sistema de control vacacional rappi*\n",
            "*************************************/n\n",
            "por favor introduce el nombre del empleado:Juan \n",
            "por favor introduce la clave del departamento:2\n",
            "por favor introduce los años trabajados del empleado:9\n",
            "el empleado Juan  tiene derecho a 22 dias de vacaciones.\n"
          ]
        }
      ],
      "source": [
        "print(\"*************************************\")\n",
        "print(\"*sistema de control vacacional rappi*\")\n",
        "print(\"*************************************/n\")\n",
        "\n",
        "nombre_empleado = input(\"por favor introduce el nombre del empleado:\")\n",
        "clave_departamento  = int(input(\"por favor introduce la clave del departamento:\"))\n",
        "antigüedad_empleado = float(input(\"por favor introduce los años trabajados del empleado:\"))\n",
        "\n",
        "if clave_departamento == 1:\n",
        "  if antigüedad_empleado >=1 and antigüedad_empleado<2:\n",
        "    print(\"el empleado\",nombre_empleado, \"tiene derecho a 6 dias de vacaciones.\")\n",
        "  elif antigüedad_empleado >=2 and antigüedad_empleado<=6:\n",
        "    print(\"el empleado\", nombre_empleado, \"tiene derecho a 14 dias de vacaaciones.\")\n",
        "  elif antigüedad_empleado >=7:\n",
        "    print(\"el empleado\", nombre_empleado, \"tiene derecho a 20 dias de vacaciones.\")   \n",
        "  else:\n",
        "    print(\"el empleado\", nombre_empleado,\"aun no tiene derecho a vacaciones.\")\n",
        "elif clave_departamento == 2:\n",
        "  if antigüedad_empleado >= 1 and antigüedad_empleado <2:\n",
        "    print(\"el empledo\", nombre_empleado, \"tiene derecho a 7 dias de vacaciones.\")\n",
        "  elif antigüedad_empleado >=2 and antigüedad_empleado<= 6:\n",
        "    print(\"el empleado\", nombre_empleado, \" tienen derecho a 15 dias de vacaciones.\")\n",
        "  elif antigüedad_empleado>=7:\n",
        "    print(\"el empleado\", nombre_empleado, \"tiene derecho a 22 dias de vacaciones.\")\n",
        "  else:\n",
        "    print(\"el empleado\",nombre_empleado, \"aun no tiene derecho a vacaciones.\")      \n",
        "elif clave_departamento == 3:\n",
        "  if antigüedad_empleado >=1 and antigüedad_empleado<2:\n",
        "    print(\"el empleado\", nombre_empleado, \"tiene derecho a 10 dias de vacaciones.\")\n",
        "  elif antigüedad_empleado >=2 and antigüedad_empleado <=6:\n",
        "    print(\"el empleado\",nombre_empleado,\"tiene derecho a dias 20 de vacaciones.\")\n",
        "  elif antigüedad_empleado >=7:\n",
        "    print(\"el empleado\", nombre_empleado, \"tiene derecho a dias 30 de vacaciones.\")\n",
        "  else:\n",
        "    print(\"el empleado\", nombre_empleado, \"aun no tiene derecho a vacaciones.\")     \n",
        "\n",
        "\n",
        "else:\n",
        "  print(\"la clave de departamento no existe, vuelve a intentarlo.\")\n",
        "\n"
      ]
    }
  ]
}