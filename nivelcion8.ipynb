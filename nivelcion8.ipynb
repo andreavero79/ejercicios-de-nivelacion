{
  "nbformat": 4,
  "nbformat_minor": 0,
  "metadata": {
    "colab": {
      "provenance": [],
      "authorship_tag": "ABX9TyPECpHfXNFzHA03AYu+VzsG",
      "include_colab_link": true
    },
    "kernelspec": {
      "name": "python3",
      "display_name": "Python 3"
    },
    "language_info": {
      "name": "python"
    }
  },
  "cells": [
    {
      "cell_type": "markdown",
      "metadata": {
        "id": "view-in-github",
        "colab_type": "text"
      },
      "source": [
        "<a href=\"https://colab.research.google.com/github/andreavero79/ejercicios-de-nivelacion/blob/main/nivelcion8.ipynb\" target=\"_parent\"><img src=\"https://colab.research.google.com/assets/colab-badge.svg\" alt=\"Open In Colab\"/></a>"
      ]
    },
    {
      "cell_type": "code",
      "execution_count": 4,
      "metadata": {
        "id": "0CnDnyT4Lzxb",
        "colab": {
          "base_uri": "https://localhost:8080/"
        },
        "outputId": "4861f9d5-cafb-4719-c173-f295f3369077"
      },
      "outputs": [
        {
          "output_type": "stream",
          "name": "stdout",
          "text": [
            "¿que tabla de multiplicar quieres ver?:5\n",
            "la tabla de 5 es:\n",
            "5 x 0 = 0\n",
            "5 x 1 = 5\n",
            "5 x 2 = 10\n",
            "5 x 3 = 15\n",
            "5 x 4 = 20\n",
            "5 x 5 = 25\n",
            "5 x 6 = 30\n",
            "5 x 7 = 35\n",
            "5 x 8 = 40\n",
            "5 x 9 = 45\n",
            "5 x 10 = 50\n"
          ]
        }
      ],
      "source": [
        "num=int(input(\"¿que tabla de multiplicar quieres ver?:\"))\n",
        "\n",
        "print(f\"la tabla de {num} es:\")\n",
        "for i in range (11):\n",
        "  print(f\"{num} x {i} = {num * i}\")\n",
        "  "
      ]
    }
  ]
}