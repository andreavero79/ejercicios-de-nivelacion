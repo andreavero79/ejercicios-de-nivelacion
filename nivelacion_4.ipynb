{
  "nbformat": 4,
  "nbformat_minor": 0,
  "metadata": {
    "colab": {
      "provenance": [],
      "authorship_tag": "ABX9TyNisGEwyGARRPl3BltjzFdC",
      "include_colab_link": true
    },
    "kernelspec": {
      "name": "python3",
      "display_name": "Python 3"
    },
    "language_info": {
      "name": "python"
    }
  },
  "cells": [
    {
      "cell_type": "markdown",
      "metadata": {
        "id": "view-in-github",
        "colab_type": "text"
      },
      "source": [
        "<a href=\"https://colab.research.google.com/github/andreavero79/ejercicios-de-nivelacion/blob/main/nivelacion_4.ipynb\" target=\"_parent\"><img src=\"https://colab.research.google.com/assets/colab-badge.svg\" alt=\"Open In Colab\"/></a>"
      ]
    },
    {
      "cell_type": "code",
      "execution_count": 2,
      "metadata": {
        "id": "8pTg_RwORQL7",
        "colab": {
          "base_uri": "https://localhost:8080/"
        },
        "outputId": "ef14aacc-4a05-4e32-a929-c52fa46fe758"
      },
      "outputs": [
        {
          "output_type": "stream",
          "name": "stdout",
          "text": [
            "calculadora con una sola variable/n\n",
            "***********************************\n",
            "*menu de opciones*\n",
            "1.suma\n",
            "2.resta\n",
            "3.multiplicación\n",
            "4.división\n",
            "5.división entera\n",
            "6.exponente\n",
            "modulo o resto/n\n",
            "introduce la opción deseada:1\n",
            "elegiste suma /n\n",
            "introduce el primer número:9\n",
            "introduce el segundo número:56\n",
            "el resultado de la suma es: 65\n"
          ]
        }
      ],
      "source": [
        "print(\"calculadora con una sola variable/n\")\n",
        "\n",
        "print(\"***********************************\")\n",
        "print(\"*menu de opciones*\")\n",
        "\n",
        "print(\"1.suma\")\n",
        "print(\"2.resta\")\n",
        "print(\"3.multiplicación\")\n",
        "print(\"4.división\")\n",
        "print(\"5.división entera\")\n",
        "print(\"6.exponente\")\n",
        "print(\"modulo o resto/n\")\n",
        "\n",
        "número =int(input(\"introduce la opción deseada:\"))\n",
        "\n",
        "if número ==1:\n",
        "\n",
        "  print(\"elegiste suma /n\")\n",
        "  número =int(input(\"introduce el primer número:\"))\n",
        "  número +=int(input(\"introduce el segundo número:\"))\n",
        "  print(\"el resultado de la suma es:\",número)\n",
        "\n",
        "elif número ==2:\n",
        "\n",
        "  print(\"elegiste resta/n\")\n",
        "  número =int(input(\"introduce el primer número:\"))\n",
        "  número -=int(input(\"intoduce el segundo número:\"))\n",
        "  print(\"el resultado de la resta es:\", número)\n",
        "\n",
        "elif número ==3:\n",
        "\n",
        "  print(\"elegiste multiplicación\")\n",
        "  número = int(input(\"introduce el primer numero:\"))\n",
        "  número *= int(input(\"introduce el segundo número:\"))\n",
        "  print(\"el resultado de la multiplicación es:\",número)\n",
        "\n",
        "elif número ==4:\n",
        "\n",
        "  print(\"elegiste división\")\n",
        "  número = float(input(\"introduce el primer número:\"))\n",
        "  número /= float(input(\"introduce el segundo número:\"))\n",
        "  print(\"el resultado de la división es:\", round (número,2))\n",
        "\n",
        "elif número ==5:\n",
        "\n",
        "  print(\"elegiste division entera\")\n",
        "  número = int(input(\"introduce el primer número:\"))\n",
        "  número //=int(input(\"introduce el segundo número:\"))\n",
        "  print(\"el resultado de la division entera es:\", número)\n",
        "\n",
        "elif número ==6:\n",
        "\n",
        "  print(\"elegiste exponente\")\n",
        "  número = int(input(\"introduce el primer número:\"))\n",
        "  número **=int(input(\"introduce el segundo número:\"))\n",
        "  print(\"el resultado de exponente es:\", número)\n",
        "\n",
        "elif número ==7:  \n",
        "\n",
        "  print(\"elegiste modulo o resto\")\n",
        "  número =int(input(\"introduce el primer número:\"))\n",
        "  número %=int(input(\"introduce el segundo número:\"))\n",
        "  print(\"el modulo o resto es:\", número)\n",
        "\n",
        "else:\n",
        "  print(\"la opción elegida nom existe, vuelve a intentarlo\")  "
      ]
    }
  ]
}