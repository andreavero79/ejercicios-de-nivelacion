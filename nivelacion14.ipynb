{
  "nbformat": 4,
  "nbformat_minor": 0,
  "metadata": {
    "colab": {
      "provenance": [],
      "authorship_tag": "ABX9TyN3sG8hFzYVCXXuJLXKMoz8",
      "include_colab_link": true
    },
    "kernelspec": {
      "name": "python3",
      "display_name": "Python 3"
    },
    "language_info": {
      "name": "python"
    }
  },
  "cells": [
    {
      "cell_type": "markdown",
      "metadata": {
        "id": "view-in-github",
        "colab_type": "text"
      },
      "source": [
        "<a href=\"https://colab.research.google.com/github/andreavero79/ejercicios-de-nivelacion/blob/main/nivelacion14.ipynb\" target=\"_parent\"><img src=\"https://colab.research.google.com/assets/colab-badge.svg\" alt=\"Open In Colab\"/></a>"
      ]
    },
    {
      "cell_type": "code",
      "execution_count": 15,
      "metadata": {
        "colab": {
          "base_uri": "https://localhost:8080/"
        },
        "id": "GHwnI3tvC8oW",
        "outputId": "0e7cfca6-7415-45bd-8b07-e1e7da999160"
      },
      "outputs": [
        {
          "output_type": "stream",
          "name": "stdout",
          "text": [
            "¿cuantas matrices quieres sumar?: 2\n",
            "¿cuantas filas tendran las matrices?. 3\n",
            "¿cuantas columnas tendran las matrices?. 3\n",
            "introduce un elemento para la matriz 1 fila 0, columna 0: 2\n",
            "introduce un elemento para la matriz 1 fila 0, columna 1: 3\n",
            "introduce un elemento para la matriz 1 fila 0, columna 2: 6\n",
            "introduce un elemento para la matriz 1 fila 1, columna 0: 5\n",
            "introduce un elemento para la matriz 1 fila 1, columna 1: 7\n",
            "introduce un elemento para la matriz 1 fila 1, columna 2: 9\n",
            "introduce un elemento para la matriz 1 fila 2, columna 0: 6\n",
            "introduce un elemento para la matriz 1 fila 2, columna 1: 8\n",
            "introduce un elemento para la matriz 1 fila 2, columna 2: 0\n",
            "introduce un elemento para la matriz 2 fila 0, columna 0: 3\n",
            "introduce un elemento para la matriz 2 fila 0, columna 1: 5\n",
            "introduce un elemento para la matriz 2 fila 0, columna 2: 4\n",
            "introduce un elemento para la matriz 2 fila 1, columna 0: 9\n",
            "introduce un elemento para la matriz 2 fila 1, columna 1: 8\n",
            "introduce un elemento para la matriz 2 fila 1, columna 2: 4\n",
            "introduce un elemento para la matriz 2 fila 2, columna 0: 5\n",
            "introduce un elemento para la matriz 2 fila 2, columna 1: 7\n",
            "introduce un elemento para la matriz 2 fila 2, columna 2: 6\n",
            "[2, 3, 6]   [3, 5, 4]   [5, 8, 10]   [5, 7, 9]  +  [9, 8, 4]     [14, 15, 13]     [6, 8, 0]   [5, 7, 6]   [11, 15, 6]   \n"
          ]
        }
      ],
      "source": [
        "number_of_matrix = int(input(\"¿cuantas matrices quieres sumar?: \"))\n",
        "\n",
        "if number_of_matrix >1:\n",
        "    rows = int(input(\"¿cuantas filas tendran las matrices?. \"))\n",
        "    columns=int(input(\"¿cuantas columnas tendran las matrices?. \"))\n",
        "\n",
        "    matrix_list=[]\n",
        "\n",
        "    #llenado de matrices\n",
        "    for number in range (number_of_matrix):\n",
        "      matrix=[]\n",
        "      for row in range (rows):\n",
        "        new_row = []\n",
        "        for column in range (columns):\n",
        "          new_row.append(int(input(f\"introduce un elemento para la matriz {number + 1} fila {row}, columna {column}: \")))\n",
        "        matrix.append(new_row)\n",
        "      matrix_list.append(matrix)\n",
        "\n",
        "\n",
        "    #suma de las matrices\n",
        "    matrix= []\n",
        "    for row in range(rows):\n",
        "      new_row =[]\n",
        "      for column in range (columns):\n",
        "          sum_matrix=0\n",
        "          for matrix_position in range (len (matrix_list)):\n",
        "              sum_matrix +=  matrix_list[matrix_position][row][column]\n",
        "          new_row.append(sum_matrix)\n",
        "      matrix.append(new_row)\n",
        "    matrix_list.append(matrix) \n",
        "\n",
        "   #imprimir matrices\n",
        "    for matrix_row in range(rows):\n",
        "        for matrix_list_position in range(len (matrix_list)):\n",
        "          if matrix_row != 1:\n",
        "             print(f\"{matrix_list[matrix_list_position][matrix_row]}\", end=\"   \") \n",
        "          else:\n",
        "            if matrix_list_position < len(matrix_list) - 2:\n",
        "              print(f\"{matrix_list[matrix_list_position][matrix_row]}\",end=\"  +  \")\n",
        "            elif matrix_list_position < len(matrix_list) - 2:\n",
        "              print(f\"{matrix_list[matrix_list_position][matrix_row]}\",end=\"  =  \")\n",
        "            else:\n",
        "              print(f\"{matrix_list[matrix_list_position][matrix_row]}\",end=\"     \")\n",
        "    print()        \n",
        "else:\n",
        "  print(\"se necesitan dos o mas matrices para efectuar la suma. \")"
      ]
    }
  ]
}