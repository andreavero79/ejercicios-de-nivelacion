{
  "nbformat": 4,
  "nbformat_minor": 0,
  "metadata": {
    "colab": {
      "provenance": [],
      "authorship_tag": "ABX9TyPiYCZthIputUuNyxo2wY2W",
      "include_colab_link": true
    },
    "kernelspec": {
      "name": "python3",
      "display_name": "Python 3"
    },
    "language_info": {
      "name": "python"
    }
  },
  "cells": [
    {
      "cell_type": "markdown",
      "metadata": {
        "id": "view-in-github",
        "colab_type": "text"
      },
      "source": [
        "<a href=\"https://colab.research.google.com/github/andreavero79/ejercicios-de-nivelacion/blob/main/Nivelacion_2.ipynb\" target=\"_parent\"><img src=\"https://colab.research.google.com/assets/colab-badge.svg\" alt=\"Open In Colab\"/></a>"
      ]
    },
    {
      "cell_type": "code",
      "execution_count": 6,
      "metadata": {
        "colab": {
          "base_uri": "https://localhost:8080/"
        },
        "id": "rPRO1kxzCkgY",
        "outputId": "eaa78b52-9e6a-4787-94be-95a0dba59a1c"
      },
      "outputs": [
        {
          "output_type": "stream",
          "name": "stdout",
          "text": [
            "****************************************************\n",
            "*programa que determina si un número es par o impar*\n",
            "****************************************************\n",
            "Por favor introduce un número entero:657\n",
            "El número 657 es impar.\n"
          ]
        }
      ],
      "source": [
        "print(\"****************************************************\")\n",
        "print(\"*programa que determina si un número es par o impar*\")\n",
        "print(\"****************************************************/n\")\n",
        "\n",
        "número= int(input(\"Por favor introduce un número entero:\"))\n",
        "\n",
        "if número % 2 == 0:\n",
        "  print(\"El número\",número,\"es par.\")\n",
        "elif número % 2 == 1:\n",
        "  print(\"El número\",número, \"es impar.\")\n"
      ]
    }
  ]
}