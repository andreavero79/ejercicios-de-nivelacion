{
  "nbformat": 4,
  "nbformat_minor": 0,
  "metadata": {
    "colab": {
      "provenance": [],
      "authorship_tag": "ABX9TyPt/+twP+66nj0ail7+K3XY",
      "include_colab_link": true
    },
    "kernelspec": {
      "name": "python3",
      "display_name": "Python 3"
    },
    "language_info": {
      "name": "python"
    }
  },
  "cells": [
    {
      "cell_type": "markdown",
      "metadata": {
        "id": "view-in-github",
        "colab_type": "text"
      },
      "source": [
        "<a href=\"https://colab.research.google.com/github/andreavero79/ejercicios-de-nivelacion/blob/main/nivelacion_3.ipynb\" target=\"_parent\"><img src=\"https://colab.research.google.com/assets/colab-badge.svg\" alt=\"Open In Colab\"/></a>"
      ]
    },
    {
      "cell_type": "code",
      "execution_count": 7,
      "metadata": {
        "colab": {
          "base_uri": "https://localhost:8080/"
        },
        "id": "JroyiMS5KiYz",
        "outputId": "232ec564-4144-49ba-bbf2-6c643b1e78f3"
      },
      "outputs": [
        {
          "output_type": "stream",
          "name": "stdout",
          "text": [
            "****************************************************************\n",
            "*Programa para determinar ¿Cuál es el número más grande de tres?\n",
            "****************************************************************/n\n",
            "introduce el primer número:900\n",
            "introduce el segundo número:400\n",
            "introduce el tercer número:1000\n",
            "El número 1000 es el más grande de los tres.\n"
          ]
        }
      ],
      "source": [
        "print(\"****************************************************************\")\n",
        "print(\"*Programa para determinar ¿Cuál es el número más grande de tres?\")\n",
        "print(\"****************************************************************/n\")\n",
        "\n",
        "num_uno= int(input(\"introduce el primer número:\"))\n",
        "num_dos= int(input(\"introduce el segundo número:\"))\n",
        "num_tres= int(input(\"introduce el tercer número:\"))\n",
        "\n",
        "if num_uno > num_dos and num_uno > num_tres:\n",
        "  print(\"El número\", num_uno,\"es el más grande de los tres.\")\n",
        "else:\n",
        "  if num_dos > num_tres:\n",
        "    print(\"El número\",num_dos,\"es el más grande de los tres.\")\n",
        "  else:\n",
        "    print(\"El número\", num_tres,\"es el más grande de los tres.\")  "
      ]
    }
  ]
}