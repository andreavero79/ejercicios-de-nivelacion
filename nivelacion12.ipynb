{
  "nbformat": 4,
  "nbformat_minor": 0,
  "metadata": {
    "colab": {
      "provenance": [],
      "authorship_tag": "ABX9TyMyhmslyBiypPRV4LgbyK1L",
      "include_colab_link": true
    },
    "kernelspec": {
      "name": "python3",
      "display_name": "Python 3"
    },
    "language_info": {
      "name": "python"
    }
  },
  "cells": [
    {
      "cell_type": "markdown",
      "metadata": {
        "id": "view-in-github",
        "colab_type": "text"
      },
      "source": [
        "<a href=\"https://colab.research.google.com/github/andreavero79/ejercicios-de-nivelacion/blob/main/nivelacion12.ipynb\" target=\"_parent\"><img src=\"https://colab.research.google.com/assets/colab-badge.svg\" alt=\"Open In Colab\"/></a>"
      ]
    },
    {
      "cell_type": "code",
      "execution_count": 4,
      "metadata": {
        "colab": {
          "base_uri": "https://localhost:8080/"
        },
        "id": "VoeFjbLsPGe-",
        "outputId": "f2c701ff-e39f-473c-fa4c-11d2f495dfaa"
      },
      "outputs": [
        {
          "output_type": "stream",
          "name": "stdout",
          "text": [
            "Lista de numeros [1, 2, 3, 4, 5]\n",
            "lista.numeros:[2, 3, 4] /nLista numeros eliminados:[1, 5]\n"
          ]
        }
      ],
      "source": [
        "numeros=[1,2,3,4,5]\n",
        "print(f\"Lista de numeros {numeros}\")\n",
        "\n",
        "numeros_eliminados =[]\n",
        "numeros_eliminados.append(numeros.pop(0))\n",
        "numeros_eliminados.append(numeros.pop())\n",
        "\n",
        "print(f\"lista.numeros:{numeros} /nLista numeros eliminados:{numeros_eliminados}\")"
      ]
    }
  ]
}