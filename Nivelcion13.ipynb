{
  "nbformat": 4,
  "nbformat_minor": 0,
  "metadata": {
    "colab": {
      "provenance": [],
      "authorship_tag": "ABX9TyMhZtaOUFZVofNUWpEKa3dF",
      "include_colab_link": true
    },
    "kernelspec": {
      "name": "python3",
      "display_name": "Python 3"
    },
    "language_info": {
      "name": "python"
    }
  },
  "cells": [
    {
      "cell_type": "markdown",
      "metadata": {
        "id": "view-in-github",
        "colab_type": "text"
      },
      "source": [
        "<a href=\"https://colab.research.google.com/github/andreavero79/ejercicios-de-nivelacion/blob/main/Nivelcion13.ipynb\" target=\"_parent\"><img src=\"https://colab.research.google.com/assets/colab-badge.svg\" alt=\"Open In Colab\"/></a>"
      ]
    },
    {
      "cell_type": "code",
      "execution_count": null,
      "metadata": {
        "colab": {
          "base_uri": "https://localhost:8080/"
        },
        "id": "hKSpjmXf-jMX",
        "outputId": "7fe7008a-a930-4854-a60c-41ac05828fca"
      },
      "outputs": [
        {
          "name": "stdout",
          "output_type": "stream",
          "text": [
            "¿cuantas filas tendra la matriz?:2\n",
            "cuantas columanas tendra la matriz?:3\n",
            "introduce un elelmento a la fila 0: 6\n",
            "introduce un elelmento a la fila 0: 4\n"
          ]
        }
      ],
      "source": [
        "rows=int(input(\"¿cuantas filas tendra la matriz?:\"))\n",
        "columns=int(input(\"cuantas columanas tendra la matriz?:\"))\n",
        "\n",
        "matrix= []\n",
        "\n",
        "for row_position in range (rows):\n",
        "    row = []\n",
        "    for element in range (columns):\n",
        "        row.append(int(input(f\"introduce un elelmento a la fila {row_position}: \")))\n",
        "    matrix.append(row)\n",
        "\n",
        "for row in matrix:\n",
        "  print(row)      "
      ]
    }
  ]
}