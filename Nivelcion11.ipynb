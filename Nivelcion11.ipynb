{
  "nbformat": 4,
  "nbformat_minor": 0,
  "metadata": {
    "colab": {
      "provenance": [],
      "authorship_tag": "ABX9TyM1xdafu1Dsjs1S6MPC4G+s",
      "include_colab_link": true
    },
    "kernelspec": {
      "name": "python3",
      "display_name": "Python 3"
    },
    "language_info": {
      "name": "python"
    }
  },
  "cells": [
    {
      "cell_type": "markdown",
      "metadata": {
        "id": "view-in-github",
        "colab_type": "text"
      },
      "source": [
        "<a href=\"https://colab.research.google.com/github/andreavero79/ejercicios-de-nivelacion/blob/main/Nivelcion11.ipynb\" target=\"_parent\"><img src=\"https://colab.research.google.com/assets/colab-badge.svg\" alt=\"Open In Colab\"/></a>"
      ]
    },
    {
      "cell_type": "code",
      "execution_count": 4,
      "metadata": {
        "colab": {
          "base_uri": "https://localhost:8080/"
        },
        "id": "C1ht_McXJ7wx",
        "outputId": "fd79b287-5fe8-4b21-d6be-00489949bbaa"
      },
      "outputs": [
        {
          "output_type": "stream",
          "name": "stdout",
          "text": [
            "lista original: [lista]\n",
            "introduce el elemento que deseas eliminar: s\n",
            "elemento elimindo: ['k', 'M', 'T', 'v', 'T']\n"
          ]
        }
      ],
      "source": [
        "lista=[\"k\",\"s\",\"M\",\"S\",\"T\",\"v\",\"T\"]\n",
        "print(f\"lista original: [lista]\")\n",
        "\n",
        "elemento=input(\"introduce el elemento que deseas eliminar: \")\n",
        "\n",
        "for _ in lista:\n",
        "    if elemento.lower() in lista:\n",
        "      lista.remove(elemento.lower())\n",
        "    elif elemento.upper() in lista:\n",
        "        lista.remove(elemento.upper())\n",
        "\n",
        "print(f\"elemento elimindo: {lista}\")        "
      ]
    }
  ]
}