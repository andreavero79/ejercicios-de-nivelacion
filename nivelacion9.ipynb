{
  "nbformat": 4,
  "nbformat_minor": 0,
  "metadata": {
    "colab": {
      "provenance": [],
      "authorship_tag": "ABX9TyN9rojmsuKeEh8OyqL0GixP",
      "include_colab_link": true
    },
    "kernelspec": {
      "name": "python3",
      "display_name": "Python 3"
    },
    "language_info": {
      "name": "python"
    }
  },
  "cells": [
    {
      "cell_type": "markdown",
      "metadata": {
        "id": "view-in-github",
        "colab_type": "text"
      },
      "source": [
        "<a href=\"https://colab.research.google.com/github/andreavero79/ejercicios-de-nivelacion/blob/main/nivelacion9.ipynb\" target=\"_parent\"><img src=\"https://colab.research.google.com/assets/colab-badge.svg\" alt=\"Open In Colab\"/></a>"
      ]
    },
    {
      "cell_type": "code",
      "execution_count": 5,
      "metadata": {
        "id": "UciNUMSS3mwU",
        "colab": {
          "base_uri": "https://localhost:8080/"
        },
        "outputId": "4f0698cd-19cb-46fe-d445-36020699e3b1"
      },
      "outputs": [
        {
          "output_type": "stream",
          "name": "stdout",
          "text": [
            "introduce un frase:mi Casa\n",
            "¿con que frase quieres terminar el bucle?:M\n",
            "m"
          ]
        }
      ],
      "source": [
        "string=input(\"introduce un frase:\")\n",
        "letter=input(\"¿con que frase quieres terminar el bucle?:\")\n",
        "\n",
        "for character in string:\n",
        "  if character.lower() == letter.lower():\n",
        "      break\n",
        "  elif character.lower() == \"a\":\n",
        "    continue\n",
        "  elif character.lower() == \"e\":\n",
        "    continue\n",
        "  elif character.lower() == \"i\":\n",
        "    continue\n",
        "  elif character.lower() == \"o\":\n",
        "    continue\n",
        "  elif character.lower() == \"u\":    \n",
        "    continue\n",
        "print(character, end= \"\")    "
      ]
    }
  ]
}