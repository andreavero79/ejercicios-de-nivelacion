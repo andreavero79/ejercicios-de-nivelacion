{
  "nbformat": 4,
  "nbformat_minor": 0,
  "metadata": {
    "colab": {
      "provenance": [],
      "authorship_tag": "ABX9TyNpz6KpTcwxJNTYpF710yH0",
      "include_colab_link": true
    },
    "kernelspec": {
      "name": "python3",
      "display_name": "Python 3"
    },
    "language_info": {
      "name": "python"
    }
  },
  "cells": [
    {
      "cell_type": "markdown",
      "metadata": {
        "id": "view-in-github",
        "colab_type": "text"
      },
      "source": [
        "<a href=\"https://colab.research.google.com/github/andreavero79/ejercicios-de-nivelacion/blob/main/nivelacion6.ipynb\" target=\"_parent\"><img src=\"https://colab.research.google.com/assets/colab-badge.svg\" alt=\"Open In Colab\"/></a>"
      ]
    },
    {
      "cell_type": "code",
      "execution_count": 5,
      "metadata": {
        "colab": {
          "base_uri": "https://localhost:8080/"
        },
        "id": "9vtMX2yx8tbf",
        "outputId": "3e590213-a53b-4737-aa6f-44e04bfab3c8"
      },
      "outputs": [
        {
          "output_type": "stream",
          "name": "stdout",
          "text": [
            "introduce un frase: siempre se puede cuando se quiere\n",
            "introduce la palabra que quieres eliminar: cuando\n",
            "cadena resultante:siempre se puede se quiere\n"
          ]
        }
      ],
      "source": [
        "string= input(\"introduce un frase: \")\n",
        "palabra=input(\"introduce la palabra que quieres eliminar: \")\n",
        "substring=\"\"\n",
        "\n",
        "indice=string.find(palabra)\n",
        "substring= string[0 : indice] + string[indice +len(palabra)+1: ]\n",
        "\n",
        "print(f\"cadena resultante:{substring}\")"
      ]
    }
  ]
}