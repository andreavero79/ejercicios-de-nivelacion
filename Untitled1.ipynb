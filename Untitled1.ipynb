{
  "nbformat": 4,
  "nbformat_minor": 0,
  "metadata": {
    "colab": {
      "provenance": [],
      "authorship_tag": "ABX9TyPcIvtRShHu8j910cvLcxXQ",
      "include_colab_link": true
    },
    "kernelspec": {
      "name": "python3",
      "display_name": "Python 3"
    },
    "language_info": {
      "name": "python"
    }
  },
  "cells": [
    {
      "cell_type": "markdown",
      "metadata": {
        "id": "view-in-github",
        "colab_type": "text"
      },
      "source": [
        "<a href=\"https://colab.research.google.com/github/andreavero79/ejercicios-de-nivelacion/blob/main/Untitled1.ipynb\" target=\"_parent\"><img src=\"https://colab.research.google.com/assets/colab-badge.svg\" alt=\"Open In Colab\"/></a>"
      ]
    },
    {
      "cell_type": "code",
      "execution_count": 1,
      "metadata": {
        "colab": {
          "base_uri": "https://localhost:8080/"
        },
        "id": "6J4ww_fXEHta",
        "outputId": "968af99b-4b3d-40f5-c644-9b0272c7c5d8"
      },
      "outputs": [
        {
          "output_type": "stream",
          "name": "stdout",
          "text": [
            "introduce un string para invertirlo:estoy aprendiendo a programar \n",
            "string invertido :  ramargorp a odneidnerpa yotse\n"
          ]
        }
      ],
      "source": [
        "string= input(\"introduce un string para invertirlo:\")\n",
        "string_reversed=\"\"\n",
        "\n",
        "for character in string:\n",
        "  string_reversed = character + string_reversed\n",
        "\n",
        "print(f\"string invertido : {string_reversed}\")  "
      ]
    }
  ]
}